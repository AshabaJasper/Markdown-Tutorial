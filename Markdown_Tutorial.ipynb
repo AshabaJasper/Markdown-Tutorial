{
  "cells": [
    {
      "cell_type": "code",
      "source": [],
      "outputs": [],
      "execution_count": null,
      "metadata": {
        "jupyter": {
          "outputs_hidden": false,
          "source_hidden": false
        },
        "noteable": {
          "cell_type": "code"
        }
      },
      "id": "ec068c5c-9da5-4c81-842f-15cd7471a213"
    },
    {
      "cell_type": "markdown",
      "source": [
        "# Markdown Tutorial\n",
        "\n",
        "Markdown is a lightweight markup language that you can use to add formatting elements to plaintext text documents. It's often used for formatting readme files, for writing messages in online discussion forums, and to create rich text using a plain text editor."
      ],
      "metadata": {
        "jupyter": {
          "outputs_hidden": false,
          "source_hidden": false
        },
        "noteable": {
          "cell_type": "markdown"
        }
      },
      "id": "4c2331e9-1492-45f0-9261-4657149e4eaa"
    },
    {
      "cell_type": "markdown",
      "source": [
        "## Headers\n",
        "\n",
        "In Markdown, you use the hash (#) symbol to create a heading. The number of hashes you use should correspond to the heading level. For example:\n",
        "\n",
        "- `# Heading 1`\n",
        "- `## Heading 2`\n",
        "- `### Heading 3`\n",
        "- `#### Heading 4`\n",
        "- `##### Heading 5`\n",
        "- `###### Heading 6`\n",
        "\n",
        "Note: There must be a space between the hash and the text for the formatting to work."
      ],
      "metadata": {
        "jupyter": {
          "outputs_hidden": false,
          "source_hidden": false
        },
        "noteable": {
          "cell_type": "markdown"
        }
      },
      "id": "bb6806e6-aac3-44ae-986c-0a2a4b9ea348"
    },
    {
      "cell_type": "markdown",
      "source": [
        "## Emphasis\n",
        "\n",
        "You can make text bold or italic using Markdown:\n",
        "\n",
        "- `*This text will be italic*` or `_This will also be italic_`\n",
        "- `**This text will be bold**` or `__This will also be bold__`\n",
        "\n",
        "You can combine them to create both bold and italic text:\n",
        "\n",
        "- `**You can _combine_ them**`"
      ],
      "metadata": {
        "jupyter": {
          "outputs_hidden": false,
          "source_hidden": false
        },
        "noteable": {
          "cell_type": "markdown"
        }
      },
      "id": "aced4d58-8e9c-4cc1-b0d2-62cd9f299a10"
    },
    {
      "cell_type": "markdown",
      "source": [
        "## Lists\n",
        "\n",
        "You can create an unordered list using the dash (-), asterisk (*), or plus (+) symbols:\n",
        "\n",
        "- `* Item 1`\n",
        "- `* Item 2`\n",
        "- `  * Item 2a`\n",
        "- `  * Item 2b`\n",
        "\n",
        "You can create an ordered list by using numbers (any numbers will do):\n",
        "\n",
        "- `1. Item 1`\n",
        "- `2. Item 2`\n",
        "- `3. Item 3`\n",
        "- `   * Item 3a`\n",
        "- `   * Item 3b`"
      ],
      "metadata": {
        "jupyter": {
          "outputs_hidden": false,
          "source_hidden": false
        },
        "noteable": {
          "cell_type": "markdown"
        }
      },
      "id": "5cde07d4-e0fc-43ed-9c52-8e2064fc326a"
    },
    {
      "cell_type": "markdown",
      "source": [
        "## Links\n",
        "\n",
        "You can create a link by wrapping link text in brackets [ ], and then wrapping the URL in parentheses ( ). For example:\n",
        "\n",
        "- `[GitHub](http://github.com)`"
      ],
      "metadata": {
        "jupyter": {
          "outputs_hidden": false,
          "source_hidden": false
        },
        "noteable": {
          "cell_type": "markdown"
        }
      },
      "id": "e5bb90cb-76be-40d7-8c17-eab6613991ad"
    },
    {
      "cell_type": "markdown",
      "source": [
        "## Images\n",
        "\n",
        "You can display an image by using the same syntax as for a link, but just add a preceding exclamation point. For example:\n",
        "\n",
        "- `![GitHub Logo](/images/logo.png)`\n",
        "- `Format: ![Alt Text](url)`"
      ],
      "metadata": {
        "jupyter": {
          "outputs_hidden": false,
          "source_hidden": false
        },
        "noteable": {
          "cell_type": "markdown"
        }
      },
      "id": "9bfba9dc-0397-4298-aeb0-3595962548b0"
    },
    {
      "cell_type": "markdown",
      "source": [
        "## Code and Syntax Highlighting\n",
        "\n",
        "You can use backticks (`) to format text as a code. For inline code formatting, wrap your code with single backticks. For example:\n",
        "\n",
        "- `` `inline code` ``\n",
        "\n",
        "For blocks of code, you should use triple backticks. Optionally, you can add the language identifier to enable syntax highlighting in your fenced code block. For example:\n",
        "\n",
        "```python\n",
        "def function():\n",
        "    pass\n",
        "```"
      ],
      "metadata": {
        "jupyter": {
          "outputs_hidden": false,
          "source_hidden": false
        },
        "noteable": {
          "cell_type": "markdown"
        }
      },
      "id": "6215a338-d02f-429b-9226-16719d50fa54"
    },
    {
      "cell_type": "markdown",
      "source": [
        "## Tables\n",
        "\n",
        "You can create tables by assembling a list of words and dividing them with hyphens - (for the first row), and then separating each column with a pipe |. For example:\n",
        "\n",
        "```\n",
        "| First Header  | Second Header |\n",
        "| ------------- | ------------- |\n",
        "| Content Cell  | Content Cell  |\n",
        "| Content Cell  | Content Cell  |\n",
        "```"
      ],
      "metadata": {
        "jupyter": {
          "outputs_hidden": false,
          "source_hidden": false
        },
        "noteable": {
          "cell_type": "markdown"
        }
      },
      "id": "e9f5480a-f695-460d-b1e7-2faa261b2e83"
    },
    {
      "cell_type": "markdown",
      "source": [
        "## Blockquotes\n",
        "\n",
        "You can indicate blockquotes with a >. For example:\n",
        "\n",
        "- `> This is a blockquote.`"
      ],
      "metadata": {
        "jupyter": {
          "outputs_hidden": false,
          "source_hidden": false
        },
        "noteable": {
          "cell_type": "markdown"
        }
      },
      "id": "f5f87a18-3d5f-48d6-bc8a-5ee7b19172a5"
    },
    {
      "cell_type": "markdown",
      "source": [
        "## Horizontal Lines\n",
        "\n",
        "You can create a horizontal line using three or more hyphens (---), asterisks (***), or underscores (___). For example:\n",
        "\n",
        "- `---`\n",
        "- `***`\n",
        "- `___`"
      ],
      "metadata": {
        "jupyter": {
          "outputs_hidden": false,
          "source_hidden": false
        },
        "noteable": {
          "cell_type": "markdown"
        }
      },
      "id": "f02db4fe-8ed1-4845-bd8a-e39eedf6c63e"
    },
    {
      "cell_type": "markdown",
      "source": [
        "## Emojis\n",
        "\n",
        "Markdown supports the use of emojis as well. You can use emojis by typing `:EMOJICODE:`. Here are a few examples:\n",
        "\n",
        "- `:smile:` will render as 😄\n",
        "- `:+1:` will render as 👍\n",
        "- `:sparkles:` will render as ✨\n",
        "\n",
        "You can find a full list of supported emojis [here](https://www.webfx.com/tools/emoji-cheat-sheet/)."
      ],
      "metadata": {
        "jupyter": {
          "outputs_hidden": false,
          "source_hidden": false
        },
        "noteable": {
          "cell_type": "markdown"
        }
      },
      "id": "a5d1b4fc-5d76-44dd-ad16-982adba9d54e"
    },
    {
      "cell_type": "markdown",
      "source": [
        "# Summary\n",
        "\n",
        "Markdown is a powerful yet straightforward way to format text. With it, you can easily create headers, emphasize text, create lists, add links and images, highlight code, create tables, and even add emojis. It's widely used in many platforms that handle text.\n",
        "\n",
        "This tutorial covered the basics, but there's more to Markdown. For example, you can also create task lists, use automatic linking for URLs, create footnotes, and more. You can find more information in the [official Markdown documentation](https://daringfireball.net/projects/markdown/).\n",
        "\n",
        "Remember, the best way to learn Markdown is by practicing. So, don't hesitate to create a new Markdown document and try out the things you've learned in this tutorial. Happy writing! :smile:"
      ],
      "metadata": {
        "jupyter": {
          "outputs_hidden": false,
          "source_hidden": false
        },
        "noteable": {
          "cell_type": "markdown"
        }
      },
      "id": "ca58ab5f-ba9b-4e24-aaf3-6322d5cd399d"
    }
  ],
  "metadata": {
    "noteable-chatgpt": {
      "create_notebook": {
        "openai_conversation_id": "022d8809-0221-5f1b-9578-3843b803e92d",
        "openai_ephemeral_user_id": "11dce03f-29e4-5ac3-95ba-177001c5ae54",
        "openai_subdivision1_iso_code": "UG-C"
      }
    },
    "noteable": {
      "last_transaction_id": "2fa006b5-a879-4166-8eb6-60088562fc8d",
      "last_delta_id": "1de5301a-c6b2-4cd7-b66b-b5beffaddd3b"
    },
    "selected_hardware_size": "small",
    "nteract": {
      "version": "noteable@2.9.0"
    }
  },
  "nbformat": 4,
  "nbformat_minor": 5
}